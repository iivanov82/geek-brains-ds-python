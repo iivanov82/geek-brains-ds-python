{
 "cells": [
  {
   "cell_type": "markdown",
   "id": "c95fbb5e-99be-4eee-a2cb-4392ce89080a",
   "metadata": {},
   "source": [
    "## Задание 1.\n",
    "\n",
    "### 1.1 Соединить два словаря в один.\n",
    "\n",
    "- dict1 = {'One': 1, 'Two': 2, 'Three': 3}\n",
    "\n",
    "- dict2 = {'Four': 4, 'Five': 5, 'Six': 6}\n",
    "\n",
    "### 1.2 Напишите функцию, которая принимает на вход два словаря и возвращает один объединенный словарь.\n",
    "\n",
    "Испольуйте аннотирование типов.\n",
    "\n",
    "**Сложение словарей**\n",
    "\n",
    "- d.update(d_other) - позволяет дополнять данные словаря или обновлять их (в аргументе должен быть другой словарь);\n",
    "\n",
    "- d3 = d1|d2 - позволяет сложить два словаря и сохранить результат в новый словарь;\n",
    "\n",
    "- d3 = {**d1, **d2} - ** - распаковка, распаковываем словари d1 и d2 в новый словарь d3."
   ]
  },
  {
   "cell_type": "code",
   "execution_count": 1,
   "id": "3f9e6e4b-ae71-4ef2-99c6-5aaa08d0de67",
   "metadata": {},
   "outputs": [
    {
     "data": {
      "text/plain": [
       "{'One': 1, 'Two': 2, 'Three': 3, 'Four': 4, 'Five': 5, 'Six': 6}"
      ]
     },
     "execution_count": 1,
     "metadata": {},
     "output_type": "execute_result"
    }
   ],
   "source": [
    "dict1 = {'One': 1, 'Two': 2, 'Three': 3}\n",
    "dict2 = {'Four': 4, 'Five': 5, 'Six': 6}\n",
    "\n",
    "#решение_1 (сложение словарей):\n",
    "dict3 = dict1 | dict2\n",
    "dict3"
   ]
  },
  {
   "cell_type": "code",
   "execution_count": 2,
   "id": "633b5662-703a-4be0-bd14-e9e2e11f3eb8",
   "metadata": {},
   "outputs": [
    {
     "data": {
      "text/plain": [
       "{'One': 1, 'Two': 2, 'Three': 3, 'Four': 4, 'Five': 5, 'Six': 6}"
      ]
     },
     "execution_count": 2,
     "metadata": {},
     "output_type": "execute_result"
    }
   ],
   "source": [
    "#решение_2 (обновление словарей):\n",
    "dict1.update(dict2)\n",
    "dict1"
   ]
  },
  {
   "cell_type": "code",
   "execution_count": 179,
   "id": "48980616-5a8a-45a6-a9cb-8d897abb6af4",
   "metadata": {},
   "outputs": [
    {
     "data": {
      "text/plain": [
       "{'One': 1, 'Two': 2, 'Three': 3, 'Four': 4, 'Five': 5, 'Six': 6}"
      ]
     },
     "execution_count": 179,
     "metadata": {},
     "output_type": "execute_result"
    }
   ],
   "source": [
    "#решение_3 (распаковка словарей):\n",
    "dict3 = {**dict1, **dict2}\n",
    "dict3"
   ]
  },
  {
   "cell_type": "code",
   "execution_count": 3,
   "id": "8900c184-a61c-43cf-931d-4dc2f95e2555",
   "metadata": {},
   "outputs": [
    {
     "data": {
      "text/plain": [
       "{'One': 1, 'Two': 2, 'Three': 3, 'Four': 4, 'Five': 5, 'Six': 6}"
      ]
     },
     "execution_count": 3,
     "metadata": {},
     "output_type": "execute_result"
    }
   ],
   "source": [
    "dict3 = dict1.copy() # copy() - функция\n",
    "dict3.update(dict2)\n",
    "dict3"
   ]
  },
  {
   "cell_type": "code",
   "execution_count": 4,
   "id": "2894d127-ee04-4217-a969-332df98eb17a",
   "metadata": {},
   "outputs": [
    {
     "name": "stdout",
     "output_type": "stream",
     "text": [
      "{'One': 1, 'Two': 2, 'Three': 3, 'Four': 4, 'Five': 5, 'Six': 6}\n"
     ]
    }
   ],
   "source": [
    "#решение с функцией + аннотирование типов:\n",
    "#используем копирование, чтобы исходный список не перезаписывался\n",
    "def make_new_dict(dicta: dict, dictb: dict) -> dict:\n",
    "    dicta = dicta.copy()\n",
    "    for key, value in dictb.items():\n",
    "        dicta[key] = value\n",
    "    print(dicta)\n",
    "make_new_dict(dict1, dict2)"
   ]
  },
  {
   "cell_type": "code",
   "execution_count": 5,
   "id": "e16bb65d-0a25-4b04-a153-1b89de7bde86",
   "metadata": {},
   "outputs": [
    {
     "data": {
      "text/plain": [
       "{'One': 1, 'Two': 2, 'Three': 3, 'Four': 4, 'Five': 5, 'Six': 6}"
      ]
     },
     "execution_count": 5,
     "metadata": {},
     "output_type": "execute_result"
    }
   ],
   "source": [
    "#в данном решении без копировани исходный список dict1 перезаписался\n",
    "def make_new_dict(dicta: dict, dictb: dict) -> dict:\n",
    "    for key, value in dictb.items():\n",
    "        dicta[key] = value\n",
    "make_new_dict(dict1, dict2)\n",
    "dict1"
   ]
  },
  {
   "cell_type": "markdown",
   "id": "7e4b5b2d-827a-41f8-9ff2-a58b50e58502",
   "metadata": {},
   "source": [
    "## Задание 2.\n",
    "\n",
    "Напишите функцию, которая из двух списков делает один словарь,\n",
    "\n",
    "где элементы из первого списка - ключи, а элементы из второго списка - значения\n",
    "\n",
    "Используйте аннотирование типов"
   ]
  },
  {
   "cell_type": "markdown",
   "id": "bca9ade4-a39a-419d-8b49-cac192823a8a",
   "metadata": {},
   "source": [
    "### 2.1 Используя цикл for."
   ]
  },
  {
   "cell_type": "code",
   "execution_count": 6,
   "id": "e17a3c7f-d5f6-47d0-b6cb-8374efbc464a",
   "metadata": {},
   "outputs": [],
   "source": [
    "keys = ['One', 'Two', 'Three']\n",
    "values = [1, 2, 3]"
   ]
  },
  {
   "cell_type": "code",
   "execution_count": 7,
   "id": "81947c6f-d6f5-47c5-ba73-fe67628039cc",
   "metadata": {},
   "outputs": [
    {
     "data": {
      "text/plain": [
       "{'One': 1, 'Two': 2, 'Three': 3}"
      ]
     },
     "execution_count": 7,
     "metadata": {},
     "output_type": "execute_result"
    }
   ],
   "source": [
    "def make_dict_from_lists(list1: [str], list2: list[int]) -> dict[str, int]:\n",
    "    res = {}\n",
    "    for i in range(len(list1)):\n",
    "        res[list1[i]] = list2[i]\n",
    "    return res\n",
    "\n",
    "make_dict_from_lists(keys,values)"
   ]
  },
  {
   "cell_type": "code",
   "execution_count": 185,
   "id": "98e3b82b-934e-4378-b6c6-1f85a20f356f",
   "metadata": {},
   "outputs": [
    {
     "name": "stdout",
     "output_type": "stream",
     "text": [
      "('One', 1) ('Two', 2) ('Three', 3)\n"
     ]
    }
   ],
   "source": [
    "#Через функцию zip - объединяет два набора данных\n",
    "print(*zip(keys, values))"
   ]
  },
  {
   "cell_type": "code",
   "execution_count": 186,
   "id": "9f7e7bbf-4d03-4820-84e2-c31c229f9148",
   "metadata": {},
   "outputs": [
    {
     "data": {
      "text/plain": [
       "{'One': 1, 'Two': 2, 'Three': 3}"
      ]
     },
     "execution_count": 186,
     "metadata": {},
     "output_type": "execute_result"
    }
   ],
   "source": [
    "dict(zip(keys, values))\n",
    "#преобразовали результат функции zip в словарь"
   ]
  },
  {
   "cell_type": "markdown",
   "id": "469f6c29-fcaa-45a4-80a5-36a452d6e134",
   "metadata": {},
   "source": [
    "### 2.2 Используя dict comprehensions (генераторы словарей)."
   ]
  },
  {
   "cell_type": "code",
   "execution_count": 8,
   "id": "708258d3-c738-40f8-873a-6d77412213ae",
   "metadata": {},
   "outputs": [
    {
     "data": {
      "text/plain": [
       "{'One': 1, 'Two': 2, 'Three': 3}"
      ]
     },
     "execution_count": 8,
     "metadata": {},
     "output_type": "execute_result"
    }
   ],
   "source": [
    "res = {keys[i] : values[i] for i in range(len(keys))}\n",
    "res"
   ]
  },
  {
   "cell_type": "markdown",
   "id": "b96dfbc7-c101-481d-9516-bb84a9263999",
   "metadata": {},
   "source": [
    "## Задание 3.\n",
    "Извлеките только два ключа name и age из представленного словаря:\n",
    "\n",
    "client_dict = {\n",
    "    \"name\": \"John\",\n",
    "    \"age\": 25,\n",
    "    \"salary\": 5000,\n",
    "    \"city\": \"Moscow\"\n",
    "}\n",
    "\n",
    "### 3.1 Напишите функцию с циклом for\n",
    "Функция на вход принимает:\n",
    "\n",
    "- исходный словарь\n",
    "    \n",
    "- ключи, кот-е нужно извлечь (аргумент по умолчанию)\n",
    "\n",
    "На выходе словарь с нужными ключами.\n",
    "\n",
    "Используйте аннотирование типов"
   ]
  },
  {
   "cell_type": "code",
   "execution_count": 9,
   "id": "a4a57214-3b3c-40f5-a9f2-6d9175f1e8cd",
   "metadata": {},
   "outputs": [],
   "source": [
    "client_dict = {\n",
    "    \"name\": \"John\",\n",
    "    \"age\": 25,\n",
    "    \"salary\": 5000,\n",
    "    \"city\": \"Moscow\"\n",
    "}"
   ]
  },
  {
   "cell_type": "code",
   "execution_count": 10,
   "id": "fa804a4d-82c6-42ce-9264-90052fa796db",
   "metadata": {},
   "outputs": [
    {
     "data": {
      "text/plain": [
       "{'name': 'John', 'age': 25}"
      ]
     },
     "execution_count": 10,
     "metadata": {},
     "output_type": "execute_result"
    }
   ],
   "source": [
    "def make_new_dict(dict1: dict, keys: list = ['name', 'age']) -> dict:\n",
    "    result = {}\n",
    "    for key in keys:\n",
    "        result[key] = dict1[key]\n",
    "    return result\n",
    "make_new_dict(client_dict)"
   ]
  },
  {
   "cell_type": "code",
   "execution_count": 11,
   "id": "f0bb7e90-7a8c-451e-bca3-ae20dd4496af",
   "metadata": {},
   "outputs": [
    {
     "data": {
      "text/plain": [
       "{'salary': 5000, 'city': 'Moscow'}"
      ]
     },
     "execution_count": 11,
     "metadata": {},
     "output_type": "execute_result"
    }
   ],
   "source": [
    "#добавим новый список с другими переменными:\n",
    "make_new_dict(client_dict, ['salary', 'city'])"
   ]
  },
  {
   "cell_type": "markdown",
   "id": "913250b4-6341-47ad-8d93-8069716a2269",
   "metadata": {},
   "source": [
    "### 3.2 Используя dict comprehensions - генератор словарей."
   ]
  },
  {
   "cell_type": "code",
   "execution_count": 12,
   "id": "7d2555ee-cf67-492f-82a8-3799039281cc",
   "metadata": {},
   "outputs": [
    {
     "data": {
      "text/plain": [
       "{'name': 'John', 'age': 25}"
      ]
     },
     "execution_count": 12,
     "metadata": {},
     "output_type": "execute_result"
    }
   ],
   "source": [
    "result = {key: client_dict[key] for key in ['name', 'age']}\n",
    "result"
   ]
  },
  {
   "cell_type": "markdown",
   "id": "80455bf2-0fe9-4251-af4d-01d78aff7039",
   "metadata": {},
   "source": [
    "### Задание 4.\n",
    "\n",
    "## 4.1 Сгенерируйте случайные целые числа от 0 до 100\n",
    "\n",
    "## в количестве 5 штук с помощью модуля random\n",
    "\n",
    "- Зафиксируйте псевдогенерацию, чтобы сгенерированные значения всегда были одинаковые;\n",
    "\n",
    "- Используйте list comprehensionsensions"
   ]
  },
  {
   "cell_type": "code",
   "execution_count": 13,
   "id": "f7da0288-6bcd-40f0-be21-5e7a668d70b4",
   "metadata": {},
   "outputs": [],
   "source": [
    "from random import randint, seed ##seed() - фиксирует псевдогенерацию, результат будет один и тот же при каждом выполнении"
   ]
  },
  {
   "cell_type": "code",
   "execution_count": 14,
   "id": "e75db4be-9c9a-4cc0-a479-9e99c3265dda",
   "metadata": {},
   "outputs": [
    {
     "data": {
      "text/plain": [
       "[79, 32, 94, 45, 88]"
      ]
     },
     "execution_count": 14,
     "metadata": {},
     "output_type": "execute_result"
    }
   ],
   "source": [
    "seed(5)\n",
    "list1 = [randint(0, 100) for i in range(5)]\n",
    "list1"
   ]
  },
  {
   "cell_type": "markdown",
   "id": "3be0698f-4fd8-4356-b402-8a7cac485df1",
   "metadata": {},
   "source": [
    "### 4.2 Напишите генератор\n",
    "\n",
    "- Генератор на вход принимает список с данными о клиенте (данные из пункта 4.1)\n",
    "\n",
    "- Внутри генератора реализуйте обход по списку с даннымию\n",
    "\n",
    "На каждой итерации генератор будет возвращать кортеж из двух элементов:\n",
    "\n",
    "1. данные по клиенту (в зависимости от итерации: на 0 итерации вернется 0 элементов, на 1 итерации - 1 элемент и т.д.);\n",
    "\n",
    "2. целочисленное значение, которое показывает, сколько секунд прошло с предыдущей итерации.\n",
    "\n",
    "**Примечание**: секунды, которые возвращаются должны показывать время с начала запуска генератора,\n",
    "\n",
    "а именно то время, которое прошло с предыдущей итерации. А значит время на первой итерации должно равняться 0.\n",
    "\n",
    "Используйте функцию time из модуля time для подсчета времени.\n",
    "\n",
    "Чтобы проверить работу таймера, запустите проход по генератору в цикле с time.sleep(2). с time.sleep(2)"
   ]
  },
  {
   "cell_type": "code",
   "execution_count": 15,
   "id": "4747f870-685a-4d23-80e5-d93e888a161c",
   "metadata": {},
   "outputs": [],
   "source": [
    "import time"
   ]
  },
  {
   "cell_type": "code",
   "execution_count": 16,
   "id": "79325935-1b8b-40f3-ad80-103179ace942",
   "metadata": {},
   "outputs": [
    {
     "name": "stdout",
     "output_type": "stream",
     "text": [
      "(79, 1726047150.608864)\n",
      "(32, 1726047152.613072)\n",
      "(94, 1726047154.614165)\n",
      "(45, 1726047156.619458)\n",
      "(88, 1726047158.62187)\n"
     ]
    }
   ],
   "source": [
    "def generator(data): #создали генератор\n",
    "    for item in data:\n",
    "        cur_time = time.time() #cur_time - функция, которая берет текущее время с начала эпохи (1971)\n",
    "        yield item, cur_time #возвращаем item и cur_time, yield = return, yield выводит генератор, а не функцию\n",
    "for t in generator(list1):\n",
    "    print(t)\n",
    "    time.sleep(2) #time.sleep() - создает паузы в работе генератора,\n",
    "                    #в данном случае каждый новый результат будет выводиться через 2 сек. после предыдущего"
   ]
  },
  {
   "cell_type": "code",
   "execution_count": 17,
   "id": "1dc27e29-277e-45c2-bdeb-c3ad22a0284a",
   "metadata": {},
   "outputs": [
    {
     "name": "stdout",
     "output_type": "stream",
     "text": [
      "(79, 0.0)\n",
      "начало следующей итерации\n",
      "(32, 1.0016019344329834)\n",
      "начало следующей итерации\n",
      "(94, 2.0069291591644287)\n",
      "начало следующей итерации\n",
      "(45, 3.012216091156006)\n",
      "начало следующей итерации\n",
      "(88, 4.017583131790161)\n",
      "начало следующей итерации\n"
     ]
    }
   ],
   "source": [
    "#далее надо вывести вместо текущего времени дельту - разницу\n",
    "#перед циклом for добавляем last_time\n",
    "def generator(data):\n",
    "    last_time = time.time()\n",
    "    for item in data:\n",
    "        cur_time = time.time()\n",
    "        yield item, cur_time - last_time\n",
    "        print('начало следующей итерации')\n",
    "for t in generator(list1):\n",
    "    print(t)\n",
    "    time.sleep(1)"
   ]
  },
  {
   "cell_type": "markdown",
   "id": "238bd49a-7e62-4350-b03e-7d7daf146ebf",
   "metadata": {},
   "source": [
    "### Задание 5.\n",
    "\n",
    "## 5.1 Найдите картинку в интернете и прикрепите ее в ячейку с текстом"
   ]
  },
  {
   "cell_type": "markdown",
   "id": "2f0d35de-7a76-4750-b9dc-ef1c0e80de6b",
   "metadata": {},
   "source": [
    "<img src = https://top-tuning.ru/upload/images/news/106481/mclaren-p1.jpg width = 200>"
   ]
  },
  {
   "cell_type": "markdown",
   "id": "7c4ca729-6241-4ec6-af5c-13a0b37ad3fb",
   "metadata": {},
   "source": [
    "## 5.2 Создайте таблицу в ячейке с текстом"
   ]
  },
  {
   "cell_type": "markdown",
   "id": "ae8641c7-73a3-400b-a14d-afbba37c1d42",
   "metadata": {},
   "source": [
    "### MarcDown\n",
    "\n",
    "|column_1|column_2|column_3|\n",
    "|--------|--------|--------|\n",
    "|row_1   |cell_2  |cell_3  |\n",
    "|row_2   |cell_5  |cell_6  |\n",
    "|row_3   |cell_8  |cell_9  |"
   ]
  },
  {
   "cell_type": "markdown",
   "id": "62f4e6ce-4316-4a6a-88e1-ccde1291cf65",
   "metadata": {},
   "source": [
    "### HTML"
   ]
  },
  {
   "cell_type": "markdown",
   "id": "1c55be97-d691-4b05-ac64-c2388494e843",
   "metadata": {},
   "source": [
    "<table>\n",
    "    <tr>\n",
    "        <td></td>\n",
    "        <td>до</td>\n",
    "        <td>во время</td>\n",
    "    </tr>\n",
    "    <tr>\n",
    "        <td>1 пункт</td>\n",
    "        <td>250</td>\n",
    "        <td>500</td>\n",
    "    </tr>\n",
    "     <tr>\n",
    "        <td>2 пункт</td>\n",
    "        <td>350</td>\n",
    "        <td>700</td>\n",
    "    </tr>\n",
    "     <tr>\n",
    "        <td>3 пункт</td>\n",
    "        <td>400</td>\n",
    "        <td>800</td>\n",
    "    </tr>\n",
    "     <tr>\n",
    "        <td>итого</td>\n",
    "        <td>1000</td>\n",
    "        <td>2000</td>\n",
    "    </tr>\n",
    "</table>"
   ]
  },
  {
   "cell_type": "markdown",
   "id": "8d63b940-993f-487f-b4d1-3a57d739df0f",
   "metadata": {},
   "source": [
    "## Задание 6.\n",
    "\n",
    "Напишите функцию, которая может принимать любое\n",
    "количество трат пользователя и считать сумму и среднее\n",
    "\n",
    "- На вход поступают целочисленные значения в любом \n",
    "количестве\n",
    "- \r\n",
    "На выходе словарь с ключами суммы трат и средн й\r\n",
    "траты."
   ]
  },
  {
   "cell_type": "code",
   "execution_count": 18,
   "id": "c29e1d74-2723-4477-838c-a41bd44b7e84",
   "metadata": {},
   "outputs": [
    {
     "name": "stdout",
     "output_type": "stream",
     "text": [
      "(10, 3, 24, 35)\n"
     ]
    },
    {
     "data": {
      "text/plain": [
       "{'summ': 72, 'mean': 18.0}"
      ]
     },
     "execution_count": 18,
     "metadata": {},
     "output_type": "execute_result"
    }
   ],
   "source": [
    "#args - выводит кортеж чисел\n",
    "def calc(*args):\n",
    "    print(args) #просто показать как работает args\n",
    "    summ = sum(args)\n",
    "    return{'summ': summ, 'mean': summ/len(args)}\n",
    "calc(10, 3, 24, 35)\n",
    "    "
   ]
  },
  {
   "cell_type": "code",
   "execution_count": 19,
   "id": "5e945497-ce57-4061-a22b-0eb6ace6607d",
   "metadata": {},
   "outputs": [
    {
     "name": "stdout",
     "output_type": "stream",
     "text": [
      "{'cat': 'tom', 'dog': 'pluto', 'duck': 'donald'}\n"
     ]
    }
   ],
   "source": [
    "#kwargs - создает словарь\n",
    "def func(**kwargs):\n",
    "    print(kwargs)\n",
    "func(cat = 'tom', dog = 'pluto', duck = 'donald') #передаем переменные"
   ]
  },
  {
   "cell_type": "code",
   "execution_count": null,
   "id": "e8ce9148-5178-452e-9d5d-7a959f28275f",
   "metadata": {},
   "outputs": [],
   "source": []
  },
  {
   "cell_type": "code",
   "execution_count": null,
   "id": "159f834c-81cd-46f1-8f75-d5805b5e75ff",
   "metadata": {},
   "outputs": [],
   "source": []
  },
  {
   "cell_type": "code",
   "execution_count": null,
   "id": "6f64c891-93c4-45f8-84df-3809b3b0e02a",
   "metadata": {},
   "outputs": [],
   "source": []
  },
  {
   "cell_type": "code",
   "execution_count": null,
   "id": "af442392-b542-4b7c-be19-2841e45591d7",
   "metadata": {},
   "outputs": [],
   "source": []
  }
 ],
 "metadata": {
  "kernelspec": {
   "display_name": "Python 3 (ipykernel)",
   "language": "python",
   "name": "python3"
  },
  "language_info": {
   "codemirror_mode": {
    "name": "ipython",
    "version": 3
   },
   "file_extension": ".py",
   "mimetype": "text/x-python",
   "name": "python",
   "nbconvert_exporter": "python",
   "pygments_lexer": "ipython3",
   "version": "3.12.4"
  }
 },
 "nbformat": 4,
 "nbformat_minor": 5
}
